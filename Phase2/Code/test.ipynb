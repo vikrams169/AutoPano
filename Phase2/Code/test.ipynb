{
 "cells": [
  {
   "cell_type": "code",
   "execution_count": 4,
   "metadata": {},
   "outputs": [],
   "source": [
    "import torch\n",
    "import numpy as np"
   ]
  },
  {
   "cell_type": "code",
   "execution_count": 11,
   "metadata": {},
   "outputs": [
    {
     "name": "stdout",
     "output_type": "stream",
     "text": [
      "[1 2 3 4 5 6 7 8]\n",
      "[[1 5]\n",
      " [2 6]\n",
      " [3 7]\n",
      " [4 8]]\n",
      "tensor([1, 2, 3, 4, 5, 6, 7, 8])\n",
      "tensor([[[1, 2],\n",
      "         [3, 4],\n",
      "         [5, 6],\n",
      "         [7, 8]]])\n"
     ]
    }
   ],
   "source": [
    "x_np = np.array([1, 2, 3, 4, 5, 6, 7, 8])\n",
    "print(x_np)\n",
    "x_np = np.reshape(x_np, (4,2), order = 'F')\n",
    "print(x_np)\n",
    "x = torch.tensor(np.array([1, 2, 3, 4, 5, 6, 7, 8]))\n",
    "print(x)\n",
    "x = x.reshape(-1,4,2)\n",
    "print(x)"
   ]
  },
  {
   "cell_type": "code",
   "execution_count": 42,
   "metadata": {},
   "outputs": [
    {
     "name": "stdout",
     "output_type": "stream",
     "text": [
      "(128, 128)\n",
      "[[151 155 126 ...  81  78  78]\n",
      " [156 155 145 ...  81  80  85]\n",
      " [154 157 155 ...  87  82  80]\n",
      " ...\n",
      " [ 41  41  42 ...  42  41  40]\n",
      " [ 39  39  39 ...  41  42  39]\n",
      " [ 38  37  36 ...  41  42  39]]\n",
      "(1, 128, 128)\n",
      "[[[151 155 126 ...  81  78  78]\n",
      "  [156 155 145 ...  81  80  85]\n",
      "  [154 157 155 ...  87  82  80]\n",
      "  ...\n",
      "  [ 41  41  42 ...  42  41  40]\n",
      "  [ 39  39  39 ...  41  42  39]\n",
      "  [ 38  37  36 ...  41  42  39]]]\n"
     ]
    }
   ],
   "source": [
    "import cv2\n",
    "\n",
    "test = cv2.imread('../Data/SyntheticTrain/patch_A/1.jpg', cv2.IMREAD_GRAYSCALE)\n",
    "# print(test)\n",
    "print(test.shape)\n",
    "print(test)\n",
    "patch_A = np.expand_dims(test, 2)\n",
    "print(patch_A.shape)\n",
    "print(patch_A)\n",
    "\n",
    "# patch_A = torch.tensor(patch_A).permute(2, 0, 1)\n",
    "# print(patch_A.shape)\n",
    "# print(patch_A)\n",
    "patch_A = np.squeeze(patch_A)\n",
    "patch_A = np.expand_dims(patch_A, axis=0)\n",
    "print(patch_A.shape)\n",
    "print(patch_A)\n",
    "\n",
    "patch_B = np.expand_dims(test, 1)\n",
    "\n",
    "# Pa_Pb = np.concatenate((patch_A, patch_B), axis = 2)\n",
    "\n",
    "# print(Pa_Pb)"
   ]
  }
 ],
 "metadata": {
  "kernelspec": {
   "display_name": "venv",
   "language": "python",
   "name": "venv"
  },
  "language_info": {
   "codemirror_mode": {
    "name": "ipython",
    "version": 3
   },
   "file_extension": ".py",
   "mimetype": "text/x-python",
   "name": "python",
   "nbconvert_exporter": "python",
   "pygments_lexer": "ipython3",
   "version": "3.10.12"
  }
 },
 "nbformat": 4,
 "nbformat_minor": 2
}
